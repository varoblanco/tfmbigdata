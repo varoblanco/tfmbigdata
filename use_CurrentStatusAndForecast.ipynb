{
 "cells": [
  {
   "cell_type": "code",
   "execution_count": 0,
   "metadata": {
    "application/vnd.databricks.v1+cell": {
     "cellMetadata": {
      "byteLimit": 2048000,
      "rowLimit": 10000
     },
     "inputWidgets": {},
     "nuid": "d6043069-fc85-478f-8f81-0e7a078e55bb",
     "showTitle": false,
     "title": ""
    }
   },
   "outputs": [],
   "source": [
    "# Paso 1: Leer las tablas existentes en DataFrames\n",
    "df_tabla1 = spark.table(\"hive_metastore.datos_external.api\")\n",
    "df_tabla2 = spark.table(\"hive_metastore.datos_external.arduino\")"
   ]
  },
  {
   "cell_type": "code",
   "execution_count": 0,
   "metadata": {
    "application/vnd.databricks.v1+cell": {
     "cellMetadata": {
      "byteLimit": 2048000,
      "rowLimit": 10000
     },
     "inputWidgets": {},
     "nuid": "67ce78b1-cfd9-41ea-b187-7ca21f19f7c6",
     "showTitle": false,
     "title": ""
    }
   },
   "outputs": [],
   "source": [
    "# Paso 2: Seleccionar las columnas que necesitamos de cada DataFrame\n",
    "df_tabla1_seleccion = df_tabla1.select(\"DateTime\", \"Rain\")\n",
    "df_tabla2_seleccion = df_tabla2.select(\"DateTime\", \"T_amb\", \"HR_amb\", \"HR_soil\", \"irrad\")"
   ]
  },
  {
   "cell_type": "code",
   "execution_count": 0,
   "metadata": {
    "application/vnd.databricks.v1+cell": {
     "cellMetadata": {
      "byteLimit": 2048000,
      "rowLimit": 10000
     },
     "inputWidgets": {},
     "nuid": "0a8a09c0-6c5d-42bf-b8ea-c1bf9c18c3ec",
     "showTitle": false,
     "title": ""
    }
   },
   "outputs": [],
   "source": [
    "# Paso 3: Unir los DataFrames en base a la columna 'id'\n",
    "df_tabla_combinada = df_tabla2_seleccion.join(df_tabla1_seleccion, on=\"DateTime\", how=\"left\")\n",
    "\n",
    "# Paso 4: Crear o reemplazar la tabla en Databricks\n",
    "df_tabla_combinada.write.mode(\"overwrite\").saveAsTable(\"use_CurrentStatusAndForecast\")"
   ]
  },
  {
   "cell_type": "code",
   "execution_count": 0,
   "metadata": {
    "application/vnd.databricks.v1+cell": {
     "cellMetadata": {
      "byteLimit": 2048000,
      "rowLimit": 10000
     },
     "inputWidgets": {},
     "nuid": "65722a59-2e07-4e9a-a3ff-de9974b0cdb4",
     "showTitle": false,
     "title": ""
    }
   },
   "outputs": [
    {
     "output_type": "stream",
     "name": "stdout",
     "output_type": "stream",
     "text": [
      "+----------------+-----------+-----------+-------+-----------+----+\n|        DateTime|      T_amb|     HR_amb|HR_soil|      irrad|Rain|\n+----------------+-----------+-----------+-------+-----------+----+\n|2024-09-16 19:49|23.10000038|61.59999847|     53|91.05991364|NULL|\n|2024-09-16 19:49|23.10000038|61.59999847|     53|91.05991364|NULL|\n|2024-09-16 19:50|23.10000038|       61.5|     53|90.87557983|NULL|\n|2024-09-16 19:50|23.10000038|       61.5|     53|90.87557983|NULL|\n+----------------+-----------+-----------+-------+-----------+----+\n\n"
     ]
    }
   ],
   "source": [
    "# Mostrar la nueva tabla para confirmar\n",
    "spark.sql(\"SELECT * FROM use_CurrentStatusAndForecast\").show(60)"
   ]
  }
 ],
 "metadata": {
  "application/vnd.databricks.v1+notebook": {
   "dashboards": [],
   "environmentMetadata": null,
   "language": "python",
   "notebookMetadata": {
    "pythonIndentUnit": 4
   },
   "notebookName": "use_CurrentStatusAndForecast",
   "widgets": {}
  }
 },
 "nbformat": 4,
 "nbformat_minor": 0
}
