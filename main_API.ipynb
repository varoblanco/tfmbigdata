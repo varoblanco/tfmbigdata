{
 "cells": [
  {
   "cell_type": "code",
   "execution_count": 0,
   "metadata": {
    "application/vnd.databricks.v1+cell": {
     "cellMetadata": {
      "byteLimit": 2048000,
      "rowLimit": 10000
     },
     "inputWidgets": {},
     "nuid": "e2a217f7-fa5c-4540-b9ac-0211e22399aa",
     "showTitle": false,
     "title": ""
    }
   },
   "outputs": [],
   "source": [
    "# Importar las librerías necesarias\n",
    "import requests\n",
    "from pyspark.sql import SparkSession\n",
    "from pyspark.sql.types import StructType, StructField, StringType, DoubleType, IntegerType\n",
    "import json\n",
    "\n",
    "# Crear una sesión de Spark (opcional, si ya estás en un notebook de Databricks, esto se hace automáticamente)\n",
    "spark = SparkSession.builder.appName(\"WeatherAPI\").getOrCreate()\n"
   ]
  },
  {
   "cell_type": "code",
   "execution_count": 0,
   "metadata": {
    "application/vnd.databricks.v1+cell": {
     "cellMetadata": {
      "byteLimit": 2048000,
      "rowLimit": 10000
     },
     "inputWidgets": {},
     "nuid": "e91ca655-6921-41e8-8165-324e50224c7a",
     "showTitle": false,
     "title": ""
    }
   },
   "outputs": [],
   "source": [
    "container = \"datos\"\n",
    "account = spark.conf.get(\"adls.account.name\")\n",
    "datos_path = f\"abfss://{container}@{account}.dfs.core.windows.net/datos-api\"\n",
    "def guardar_datos(df, datos_path):\n",
    "        df = df.repartition(1)\n",
    "        df.write.format('delta').mode(\"overwrite\").save(f\"{datos_path}\")   "
   ]
  },
  {
   "cell_type": "code",
   "execution_count": 0,
   "metadata": {
    "application/vnd.databricks.v1+cell": {
     "cellMetadata": {
      "byteLimit": 2048000,
      "rowLimit": 10000
     },
     "inputWidgets": {},
     "nuid": "eda4ebff-0e0b-4b00-8048-430b8b61dd96",
     "showTitle": false,
     "title": ""
    }
   },
   "outputs": [],
   "source": [
    "# URL de la API y tu clave de API (esto es solo un ejemplo, ajusta según la API que utilices)\n",
    "api_key = \"CQPEAKEG8AnpvlveYnsE3s2xGJq9ZQ7T\"\n",
    "language = \"es\"\n",
    "details = \"true\"\n",
    "metric = \"true\"\n",
    "city = \"Oviedo\"\n",
    "url = f\"http://dataservice.accuweather.com/forecasts/v1/hourly/12hour/{305478}?apikey={api_key}&language={language}&details={details}&metric={metric}\"\n",
    "\n",
    "#url = f\"http://dataservice.accuweather.com/forecasts/v1/daily/5day/{locationKey}?apikey={api_key}&\"\n",
    "\n",
    "\n",
    "# Hacer la solicitud a la API\n",
    "response = requests.get(url)\n",
    "\n",
    "# Verificar que la respuesta sea exitosa\n",
    "if response.status_code == 200:\n",
    "    # Convertir la respuesta a un diccionario de Python\n",
    "    data = response.json()\n",
    "else:\n",
    "    print(f\"Error en la solicitud de la API: {response.status_code}\")\n"
   ]
  },
  {
   "cell_type": "code",
   "execution_count": 0,
   "metadata": {
    "application/vnd.databricks.v1+cell": {
     "cellMetadata": {
      "byteLimit": 2048000,
      "rowLimit": 10000
     },
     "inputWidgets": {},
     "nuid": "3ee086de-a802-4778-8e48-94ebb9b9eb8f",
     "showTitle": false,
     "title": ""
    }
   },
   "outputs": [
    {
     "output_type": "stream",
     "name": "stdout",
     "output_type": "stream",
     "text": [
      "[{'DateTime': '2024-09-18T09:00:00+02:00', 'EpochDateTime': 1726642800, 'WeatherIcon': 12, 'IconPhrase': 'Chubascos', 'HasPrecipitation': True, 'PrecipitationType': 'Rain', 'PrecipitationIntensity': 'Moderate', 'IsDaylight': True, 'Temperature': {'Value': 20.8, 'Unit': 'C', 'UnitType': 17}, 'RealFeelTemperature': {'Value': 18.3, 'Unit': 'C', 'UnitType': 17, 'Phrase': 'Agradable'}, 'RealFeelTemperatureShade': {'Value': 18.3, 'Unit': 'C', 'UnitType': 17, 'Phrase': 'Agradable'}, 'WetBulbTemperature': {'Value': 17.7, 'Unit': 'C', 'UnitType': 17}, 'WetBulbGlobeTemperature': {'Value': 18.7, 'Unit': 'C', 'UnitType': 17}, 'DewPoint': {'Value': 15.5, 'Unit': 'C', 'UnitType': 17}, 'Wind': {'Speed': {'Value': 11.1, 'Unit': 'km/h', 'UnitType': 7}, 'Direction': {'Degrees': 35, 'Localized': 'NE', 'English': 'NE'}}, 'WindGust': {'Speed': {'Value': 16.7, 'Unit': 'km/h', 'UnitType': 7}}, 'RelativeHumidity': 71, 'IndoorRelativeHumidity': 71, 'Visibility': {'Value': 16.1, 'Unit': 'km', 'UnitType': 6}, 'Ceiling': {'Value': 3048.0, 'Unit': 'm', 'UnitType': 5}, 'UVIndex': 0, 'UVIndexText': 'Bajo', 'PrecipitationProbability': 55, 'ThunderstormProbability': 22, 'RainProbability': 55, 'SnowProbability': 0, 'IceProbability': 0, 'TotalLiquid': {'Value': 1.3, 'Unit': 'mm', 'UnitType': 3}, 'Rain': {'Value': 1.3, 'Unit': 'mm', 'UnitType': 3}, 'Snow': {'Value': 0.0, 'Unit': 'cm', 'UnitType': 4}, 'Ice': {'Value': 0.0, 'Unit': 'mm', 'UnitType': 3}, 'CloudCover': 100, 'Evapotranspiration': {'Value': 0.0, 'Unit': 'mm', 'UnitType': 3}, 'SolarIrradiance': {'Value': 21.9, 'Unit': 'W/m²', 'UnitType': 33}, 'MobileLink': 'http://www.accuweather.com/es/es/eivissa/305478/hourly-weather-forecast/305478?day=1&hbhhour=9&unit=c', 'Link': 'http://www.accuweather.com/es/es/eivissa/305478/hourly-weather-forecast/305478?day=1&hbhhour=9&unit=c'}, {'DateTime': '2024-09-18T10:00:00+02:00', 'EpochDateTime': 1726646400, 'WeatherIcon': 3, 'IconPhrase': 'Parcialmente soleado', 'HasPrecipitation': False, 'IsDaylight': True, 'Temperature': {'Value': 21.9, 'Unit': 'C', 'UnitType': 17}, 'RealFeelTemperature': {'Value': 23.0, 'Unit': 'C', 'UnitType': 17, 'Phrase': 'Agradable'}, 'RealFeelTemperatureShade': {'Value': 20.6, 'Unit': 'C', 'UnitType': 17, 'Phrase': 'Agradable'}, 'WetBulbTemperature': {'Value': 18.4, 'Unit': 'C', 'UnitType': 17}, 'WetBulbGlobeTemperature': {'Value': 20.7, 'Unit': 'C', 'UnitType': 17}, 'DewPoint': {'Value': 16.2, 'Unit': 'C', 'UnitType': 17}, 'Wind': {'Speed': {'Value': 11.1, 'Unit': 'km/h', 'UnitType': 7}, 'Direction': {'Degrees': 42, 'Localized': 'NE', 'English': 'NE'}}, 'WindGust': {'Speed': {'Value': 20.4, 'Unit': 'km/h', 'UnitType': 7}}, 'RelativeHumidity': 70, 'IndoorRelativeHumidity': 70, 'Visibility': {'Value': 16.1, 'Unit': 'km', 'UnitType': 6}, 'Ceiling': {'Value': 9144.0, 'Unit': 'm', 'UnitType': 5}, 'UVIndex': 3, 'UVIndexText': 'Moderado', 'PrecipitationProbability': 49, 'ThunderstormProbability': 19, 'RainProbability': 49, 'SnowProbability': 0, 'IceProbability': 0, 'TotalLiquid': {'Value': 0.0, 'Unit': 'mm', 'UnitType': 3}, 'Rain': {'Value': 0.0, 'Unit': 'mm', 'UnitType': 3}, 'Snow': {'Value': 0.0, 'Unit': 'cm', 'UnitType': 4}, 'Ice': {'Value': 0.0, 'Unit': 'mm', 'UnitType': 3}, 'CloudCover': 32, 'Evapotranspiration': {'Value': 0.3, 'Unit': 'mm', 'UnitType': 3}, 'SolarIrradiance': {'Value': 601.0, 'Unit': 'W/m²', 'UnitType': 33}, 'MobileLink': 'http://www.accuweather.com/es/es/eivissa/305478/hourly-weather-forecast/305478?day=1&hbhhour=10&unit=c', 'Link': 'http://www.accuweather.com/es/es/eivissa/305478/hourly-weather-forecast/305478?day=1&hbhhour=10&unit=c'}, {'DateTime': '2024-09-18T11:00:00+02:00', 'EpochDateTime': 1726650000, 'WeatherIcon': 3, 'IconPhrase': 'Parcialmente soleado', 'HasPrecipitation': False, 'IsDaylight': True, 'Temperature': {'Value': 22.9, 'Unit': 'C', 'UnitType': 17}, 'RealFeelTemperature': {'Value': 24.5, 'Unit': 'C', 'UnitType': 17, 'Phrase': 'Agradable'}, 'RealFeelTemperatureShade': {'Value': 21.5, 'Unit': 'C', 'UnitType': 17, 'Phrase': 'Agradable'}, 'WetBulbTemperature': {'Value': 18.8, 'Unit': 'C', 'UnitType': 17}, 'WetBulbGlobeTemperature': {'Value': 21.3, 'Unit': 'C', 'UnitType': 17}, 'DewPoint': {'Value': 16.2, 'Unit': 'C', 'UnitType': 17}, 'Wind': {'Speed': {'Value': 13.0, 'Unit': 'km/h', 'UnitType': 7}, 'Direction': {'Degrees': 52, 'Localized': 'NE', 'English': 'NE'}}, 'WindGust': {'Speed': {'Value': 24.1, 'Unit': 'km/h', 'UnitType': 7}}, 'RelativeHumidity': 65, 'IndoorRelativeHumidity': 65, 'Visibility': {'Value': 16.1, 'Unit': 'km', 'UnitType': 6}, 'Ceiling': {'Value': 9144.0, 'Unit': 'm', 'UnitType': 5}, 'UVIndex': 4, 'UVIndexText': 'Moderado', 'PrecipitationProbability': 33, 'ThunderstormProbability': 13, 'RainProbability': 33, 'SnowProbability': 0, 'IceProbability': 0, 'TotalLiquid': {'Value': 0.0, 'Unit': 'mm', 'UnitType': 3}, 'Rain': {'Value': 0.0, 'Unit': 'mm', 'UnitType': 3}, 'Snow': {'Value': 0.0, 'Unit': 'cm', 'UnitType': 4}, 'Ice': {'Value': 0.0, 'Unit': 'mm', 'UnitType': 3}, 'CloudCover': 31, 'Evapotranspiration': {'Value': 0.3, 'Unit': 'mm', 'UnitType': 3}, 'SolarIrradiance': {'Value': 735.0, 'Unit': 'W/m²', 'UnitType': 33}, 'MobileLink': 'http://www.accuweather.com/es/es/eivissa/305478/hourly-weather-forecast/305478?day=1&hbhhour=11&unit=c', 'Link': 'http://www.accuweather.com/es/es/eivissa/305478/hourly-weather-forecast/305478?day=1&hbhhour=11&unit=c'}, {'DateTime': '2024-09-18T12:00:00+02:00', 'EpochDateTime': 1726653600, 'WeatherIcon': 4, 'IconPhrase': 'Nubes y claros', 'HasPrecipitation': False, 'IsDaylight': True, 'Temperature': {'Value': 23.6, 'Unit': 'C', 'UnitType': 17}, 'RealFeelTemperature': {'Value': 25.0, 'Unit': 'C', 'UnitType': 17, 'Phrase': 'Agradable'}, 'RealFeelTemperatureShade': {'Value': 22.1, 'Unit': 'C', 'UnitType': 17, 'Phrase': 'Agradable'}, 'WetBulbTemperature': {'Value': 19.0, 'Unit': 'C', 'UnitType': 17}, 'WetBulbGlobeTemperature': {'Value': 21.4, 'Unit': 'C', 'UnitType': 17}, 'DewPoint': {'Value': 16.2, 'Unit': 'C', 'UnitType': 17}, 'Wind': {'Speed': {'Value': 14.8, 'Unit': 'km/h', 'UnitType': 7}, 'Direction': {'Degrees': 65, 'Localized': 'ENE', 'English': 'ENE'}}, 'WindGust': {'Speed': {'Value': 29.6, 'Unit': 'km/h', 'UnitType': 7}}, 'RelativeHumidity': 63, 'IndoorRelativeHumidity': 63, 'Visibility': {'Value': 16.1, 'Unit': 'km', 'UnitType': 6}, 'Ceiling': {'Value': 9144.0, 'Unit': 'm', 'UnitType': 5}, 'UVIndex': 4, 'UVIndexText': 'Moderado', 'PrecipitationProbability': 33, 'ThunderstormProbability': 13, 'RainProbability': 33, 'SnowProbability': 0, 'IceProbability': 0, 'TotalLiquid': {'Value': 0.0, 'Unit': 'mm', 'UnitType': 3}, 'Rain': {'Value': 0.0, 'Unit': 'mm', 'UnitType': 3}, 'Snow': {'Value': 0.0, 'Unit': 'cm', 'UnitType': 4}, 'Ice': {'Value': 0.0, 'Unit': 'mm', 'UnitType': 3}, 'CloudCover': 70, 'Evapotranspiration': {'Value': 0.3, 'Unit': 'mm', 'UnitType': 3}, 'SolarIrradiance': {'Value': 597.8, 'Unit': 'W/m²', 'UnitType': 33}, 'MobileLink': 'http://www.accuweather.com/es/es/eivissa/305478/hourly-weather-forecast/305478?day=1&hbhhour=12&unit=c', 'Link': 'http://www.accuweather.com/es/es/eivissa/305478/hourly-weather-forecast/305478?day=1&hbhhour=12&unit=c'}, {'DateTime': '2024-09-18T13:00:00+02:00', 'EpochDateTime': 1726657200, 'WeatherIcon': 3, 'IconPhrase': 'Parcialmente soleado', 'HasPrecipitation': False, 'IsDaylight': True, 'Temperature': {'Value': 24.2, 'Unit': 'C', 'UnitType': 17}, 'RealFeelTemperature': {'Value': 26.1, 'Unit': 'C', 'UnitType': 17, 'Phrase': 'Agradable'}, 'RealFeelTemperatureShade': {'Value': 22.6, 'Unit': 'C', 'UnitType': 17, 'Phrase': 'Agradable'}, 'WetBulbTemperature': {'Value': 19.2, 'Unit': 'C', 'UnitType': 17}, 'WetBulbGlobeTemperature': {'Value': 22.0, 'Unit': 'C', 'UnitType': 17}, 'DewPoint': {'Value': 16.1, 'Unit': 'C', 'UnitType': 17}, 'Wind': {'Speed': {'Value': 16.7, 'Unit': 'km/h', 'UnitType': 7}, 'Direction': {'Degrees': 79, 'Localized': 'E', 'English': 'E'}}, 'WindGust': {'Speed': {'Value': 31.5, 'Unit': 'km/h', 'UnitType': 7}}, 'RelativeHumidity': 60, 'IndoorRelativeHumidity': 60, 'Visibility': {'Value': 16.1, 'Unit': 'km', 'UnitType': 6}, 'Ceiling': {'Value': 9144.0, 'Unit': 'm', 'UnitType': 5}, 'UVIndex': 5, 'UVIndexText': 'Moderado', 'PrecipitationProbability': 36, 'ThunderstormProbability': 14, 'RainProbability': 36, 'SnowProbability': 0, 'IceProbability': 0, 'TotalLiquid': {'Value': 0.0, 'Unit': 'mm', 'UnitType': 3}, 'Rain': {'Value': 0.0, 'Unit': 'mm', 'UnitType': 3}, 'Snow': {'Value': 0.0, 'Unit': 'cm', 'UnitType': 4}, 'Ice': {'Value': 0.0, 'Unit': 'mm', 'UnitType': 3}, 'CloudCover': 32, 'Evapotranspiration': {'Value': 0.5, 'Unit': 'mm', 'UnitType': 3}, 'SolarIrradiance': {'Value': 845.1, 'Unit': 'W/m²', 'UnitType': 33}, 'MobileLink': 'http://www.accuweather.com/es/es/eivissa/305478/hourly-weather-forecast/305478?day=1&hbhhour=13&unit=c', 'Link': 'http://www.accuweather.com/es/es/eivissa/305478/hourly-weather-forecast/305478?day=1&hbhhour=13&unit=c'}, {'DateTime': '2024-09-18T14:00:00+02:00', 'EpochDateTime': 1726660800, 'WeatherIcon': 3, 'IconPhrase': 'Parcialmente soleado', 'HasPrecipitation': False, 'IsDaylight': True, 'Temperature': {'Value': 25.0, 'Unit': 'C', 'UnitType': 17}, 'RealFeelTemperature': {'Value': 26.4, 'Unit': 'C', 'UnitType': 17, 'Phrase': 'Agradable'}, 'RealFeelTemperatureShade': {'Value': 23.3, 'Unit': 'C', 'UnitType': 17, 'Phrase': 'Agradable'}, 'WetBulbTemperature': {'Value': 19.4, 'Unit': 'C', 'UnitType': 17}, 'WetBulbGlobeTemperature': {'Value': 22.4, 'Unit': 'C', 'UnitType': 17}, 'DewPoint': {'Value': 16.1, 'Unit': 'C', 'UnitType': 17}, 'Wind': {'Speed': {'Value': 16.7, 'Unit': 'km/h', 'UnitType': 7}, 'Direction': {'Degrees': 84, 'Localized': 'E', 'English': 'E'}}, 'WindGust': {'Speed': {'Value': 31.5, 'Unit': 'km/h', 'UnitType': 7}}, 'RelativeHumidity': 57, 'IndoorRelativeHumidity': 57, 'Visibility': {'Value': 16.1, 'Unit': 'km', 'UnitType': 6}, 'Ceiling': {'Value': 9144.0, 'Unit': 'm', 'UnitType': 5}, 'UVIndex': 5, 'UVIndexText': 'Moderado', 'PrecipitationProbability': 43, 'ThunderstormProbability': 8, 'RainProbability': 43, 'SnowProbability': 0, 'IceProbability': 0, 'TotalLiquid': {'Value': 0.0, 'Unit': 'mm', 'UnitType': 3}, 'Rain': {'Value': 0.0, 'Unit': 'mm', 'UnitType': 3}, 'Snow': {'Value': 0.0, 'Unit': 'cm', 'UnitType': 4}, 'Ice': {'Value': 0.0, 'Unit': 'mm', 'UnitType': 3}, 'CloudCover': 32, 'Evapotranspiration': {'Value': 0.5, 'Unit': 'mm', 'UnitType': 3}, 'SolarIrradiance': {'Value': 816.7, 'Unit': 'W/m²', 'UnitType': 33}, 'MobileLink': 'http://www.accuweather.com/es/es/eivissa/305478/hourly-weather-forecast/305478?day=1&hbhhour=14&unit=c', 'Link': 'http://www.accuweather.com/es/es/eivissa/305478/hourly-weather-forecast/305478?day=1&hbhhour=14&unit=c'}, {'DateTime': '2024-09-18T15:00:00+02:00', 'EpochDateTime': 1726664400, 'WeatherIcon': 3, 'IconPhrase': 'Parcialmente soleado', 'HasPrecipitation': False, 'IsDaylight': True, 'Temperature': {'Value': 24.4, 'Unit': 'C', 'UnitType': 17}, 'RealFeelTemperature': {'Value': 25.3, 'Unit': 'C', 'UnitType': 17, 'Phrase': 'Agradable'}, 'RealFeelTemperatureShade': {'Value': 22.7, 'Unit': 'C', 'UnitType': 17, 'Phrase': 'Agradable'}, 'WetBulbTemperature': {'Value': 19.2, 'Unit': 'C', 'UnitType': 17}, 'WetBulbGlobeTemperature': {'Value': 22.0, 'Unit': 'C', 'UnitType': 17}, 'DewPoint': {'Value': 16.0, 'Unit': 'C', 'UnitType': 17}, 'Wind': {'Speed': {'Value': 16.7, 'Unit': 'km/h', 'UnitType': 7}, 'Direction': {'Degrees': 85, 'Localized': 'E', 'English': 'E'}}, 'WindGust': {'Speed': {'Value': 31.5, 'Unit': 'km/h', 'UnitType': 7}}, 'RelativeHumidity': 59, 'IndoorRelativeHumidity': 59, 'Visibility': {'Value': 16.1, 'Unit': 'km', 'UnitType': 6}, 'Ceiling': {'Value': 9144.0, 'Unit': 'm', 'UnitType': 5}, 'UVIndex': 4, 'UVIndexText': 'Moderado', 'PrecipitationProbability': 47, 'ThunderstormProbability': 9, 'RainProbability': 47, 'SnowProbability': 0, 'IceProbability': 0, 'TotalLiquid': {'Value': 0.0, 'Unit': 'mm', 'UnitType': 3}, 'Rain': {'Value': 0.0, 'Unit': 'mm', 'UnitType': 3}, 'Snow': {'Value': 0.0, 'Unit': 'cm', 'UnitType': 4}, 'Ice': {'Value': 0.0, 'Unit': 'mm', 'UnitType': 3}, 'CloudCover': 39, 'Evapotranspiration': {'Value': 0.3, 'Unit': 'mm', 'UnitType': 3}, 'SolarIrradiance': {'Value': 719.3, 'Unit': 'W/m²', 'UnitType': 33}, 'MobileLink': 'http://www.accuweather.com/es/es/eivissa/305478/hourly-weather-forecast/305478?day=1&hbhhour=15&unit=c', 'Link': 'http://www.accuweather.com/es/es/eivissa/305478/hourly-weather-forecast/305478?day=1&hbhhour=15&unit=c'}, {'DateTime': '2024-09-18T16:00:00+02:00', 'EpochDateTime': 1726668000, 'WeatherIcon': 13, 'IconPhrase': 'Mayormente nublado con chubascos', 'HasPrecipitation': True, 'PrecipitationType': 'Rain', 'PrecipitationIntensity': 'Light', 'IsDaylight': True, 'Temperature': {'Value': 24.1, 'Unit': 'C', 'UnitType': 17}, 'RealFeelTemperature': {'Value': 22.8, 'Unit': 'C', 'UnitType': 17, 'Phrase': 'Agradable'}, 'RealFeelTemperatureShade': {'Value': 21.3, 'Unit': 'C', 'UnitType': 17, 'Phrase': 'Agradable'}, 'WetBulbTemperature': {'Value': 19.0, 'Unit': 'C', 'UnitType': 17}, 'WetBulbGlobeTemperature': {'Value': 21.5, 'Unit': 'C', 'UnitType': 17}, 'DewPoint': {'Value': 15.9, 'Unit': 'C', 'UnitType': 17}, 'Wind': {'Speed': {'Value': 16.7, 'Unit': 'km/h', 'UnitType': 7}, 'Direction': {'Degrees': 85, 'Localized': 'E', 'English': 'E'}}, 'WindGust': {'Speed': {'Value': 29.6, 'Unit': 'km/h', 'UnitType': 7}}, 'RelativeHumidity': 60, 'IndoorRelativeHumidity': 60, 'Visibility': {'Value': 9.7, 'Unit': 'km', 'UnitType': 6}, 'Ceiling': {'Value': 9144.0, 'Unit': 'm', 'UnitType': 5}, 'UVIndex': 2, 'UVIndexText': 'Bajo', 'PrecipitationProbability': 51, 'ThunderstormProbability': 10, 'RainProbability': 51, 'SnowProbability': 0, 'IceProbability': 0, 'TotalLiquid': {'Value': 0.4, 'Unit': 'mm', 'UnitType': 3}, 'Rain': {'Value': 0.4, 'Unit': 'mm', 'UnitType': 3}, 'Snow': {'Value': 0.0, 'Unit': 'cm', 'UnitType': 4}, 'Ice': {'Value': 0.0, 'Unit': 'mm', 'UnitType': 3}, 'CloudCover': 70, 'Evapotranspiration': {'Value': 0.3, 'Unit': 'mm', 'UnitType': 3}, 'SolarIrradiance': {'Value': 439.9, 'Unit': 'W/m²', 'UnitType': 33}, 'MobileLink': 'http://www.accuweather.com/es/es/eivissa/305478/hourly-weather-forecast/305478?day=1&hbhhour=16&unit=c', 'Link': 'http://www.accuweather.com/es/es/eivissa/305478/hourly-weather-forecast/305478?day=1&hbhhour=16&unit=c'}, {'DateTime': '2024-09-18T17:00:00+02:00', 'EpochDateTime': 1726671600, 'WeatherIcon': 4, 'IconPhrase': 'Nubes y claros', 'HasPrecipitation': False, 'IsDaylight': True, 'Temperature': {'Value': 23.7, 'Unit': 'C', 'UnitType': 17}, 'RealFeelTemperature': {'Value': 23.4, 'Unit': 'C', 'UnitType': 17, 'Phrase': 'Agradable'}, 'RealFeelTemperatureShade': {'Value': 22.0, 'Unit': 'C', 'UnitType': 17, 'Phrase': 'Agradable'}, 'WetBulbTemperature': {'Value': 18.9, 'Unit': 'C', 'UnitType': 17}, 'WetBulbGlobeTemperature': {'Value': 21.5, 'Unit': 'C', 'UnitType': 17}, 'DewPoint': {'Value': 15.8, 'Unit': 'C', 'UnitType': 17}, 'Wind': {'Speed': {'Value': 16.7, 'Unit': 'km/h', 'UnitType': 7}, 'Direction': {'Degrees': 83, 'Localized': 'E', 'English': 'E'}}, 'WindGust': {'Speed': {'Value': 29.6, 'Unit': 'km/h', 'UnitType': 7}}, 'RelativeHumidity': 61, 'IndoorRelativeHumidity': 61, 'Visibility': {'Value': 16.1, 'Unit': 'km', 'UnitType': 6}, 'Ceiling': {'Value': 9144.0, 'Unit': 'm', 'UnitType': 5}, 'UVIndex': 2, 'UVIndexText': 'Bajo', 'PrecipitationProbability': 40, 'ThunderstormProbability': 8, 'RainProbability': 40, 'SnowProbability': 0, 'IceProbability': 0, 'TotalLiquid': {'Value': 0.0, 'Unit': 'mm', 'UnitType': 3}, 'Rain': {'Value': 0.0, 'Unit': 'mm', 'UnitType': 3}, 'Snow': {'Value': 0.0, 'Unit': 'cm', 'UnitType': 4}, 'Ice': {'Value': 0.0, 'Unit': 'mm', 'UnitType': 3}, 'CloudCover': 53, 'Evapotranspiration': {'Value': 0.3, 'Unit': 'mm', 'UnitType': 3}, 'SolarIrradiance': {'Value': 389.1, 'Unit': 'W/m²', 'UnitType': 33}, 'MobileLink': 'http://www.accuweather.com/es/es/eivissa/305478/hourly-weather-forecast/305478?day=1&hbhhour=17&unit=c', 'Link': 'http://www.accuweather.com/es/es/eivissa/305478/hourly-weather-forecast/305478?day=1&hbhhour=17&unit=c'}, {'DateTime': '2024-09-18T18:00:00+02:00', 'EpochDateTime': 1726675200, 'WeatherIcon': 3, 'IconPhrase': 'Parcialmente soleado', 'HasPrecipitation': False, 'IsDaylight': True, 'Temperature': {'Value': 23.5, 'Unit': 'C', 'UnitType': 17}, 'RealFeelTemperature': {'Value': 22.6, 'Unit': 'C', 'UnitType': 17, 'Phrase': 'Agradable'}, 'RealFeelTemperatureShade': {'Value': 21.9, 'Unit': 'C', 'UnitType': 17, 'Phrase': 'Agradable'}, 'WetBulbTemperature': {'Value': 18.7, 'Unit': 'C', 'UnitType': 17}, 'WetBulbGlobeTemperature': {'Value': 21.4, 'Unit': 'C', 'UnitType': 17}, 'DewPoint': {'Value': 15.7, 'Unit': 'C', 'UnitType': 17}, 'Wind': {'Speed': {'Value': 16.7, 'Unit': 'km/h', 'UnitType': 7}, 'Direction': {'Degrees': 76, 'Localized': 'ENE', 'English': 'ENE'}}, 'WindGust': {'Speed': {'Value': 29.6, 'Unit': 'km/h', 'UnitType': 7}}, 'RelativeHumidity': 61, 'IndoorRelativeHumidity': 61, 'Visibility': {'Value': 16.1, 'Unit': 'km', 'UnitType': 6}, 'Ceiling': {'Value': 9144.0, 'Unit': 'm', 'UnitType': 5}, 'UVIndex': 1, 'UVIndexText': 'Bajo', 'PrecipitationProbability': 34, 'ThunderstormProbability': 6, 'RainProbability': 34, 'SnowProbability': 0, 'IceProbability': 0, 'TotalLiquid': {'Value': 0.0, 'Unit': 'mm', 'UnitType': 3}, 'Rain': {'Value': 0.0, 'Unit': 'mm', 'UnitType': 3}, 'Snow': {'Value': 0.0, 'Unit': 'cm', 'UnitType': 4}, 'Ice': {'Value': 0.0, 'Unit': 'mm', 'UnitType': 3}, 'CloudCover': 42, 'Evapotranspiration': {'Value': 0.3, 'Unit': 'mm', 'UnitType': 3}, 'SolarIrradiance': {'Value': 220.5, 'Unit': 'W/m²', 'UnitType': 33}, 'MobileLink': 'http://www.accuweather.com/es/es/eivissa/305478/hourly-weather-forecast/305478?day=1&hbhhour=18&unit=c', 'Link': 'http://www.accuweather.com/es/es/eivissa/305478/hourly-weather-forecast/305478?day=1&hbhhour=18&unit=c'}, {'DateTime': '2024-09-18T19:00:00+02:00', 'EpochDateTime': 1726678800, 'WeatherIcon': 3, 'IconPhrase': 'Parcialmente soleado', 'HasPrecipitation': False, 'IsDaylight': True, 'Temperature': {'Value': 22.6, 'Unit': 'C', 'UnitType': 17}, 'RealFeelTemperature': {'Value': 21.0, 'Unit': 'C', 'UnitType': 17, 'Phrase': 'Agradable'}, 'RealFeelTemperatureShade': {'Value': 21.0, 'Unit': 'C', 'UnitType': 17, 'Phrase': 'Agradable'}, 'WetBulbTemperature': {'Value': 18.4, 'Unit': 'C', 'UnitType': 17}, 'WetBulbGlobeTemperature': {'Value': 20.9, 'Unit': 'C', 'UnitType': 17}, 'DewPoint': {'Value': 15.7, 'Unit': 'C', 'UnitType': 17}, 'Wind': {'Speed': {'Value': 14.8, 'Unit': 'km/h', 'UnitType': 7}, 'Direction': {'Degrees': 67, 'Localized': 'ENE', 'English': 'ENE'}}, 'WindGust': {'Speed': {'Value': 31.5, 'Unit': 'km/h', 'UnitType': 7}}, 'RelativeHumidity': 65, 'IndoorRelativeHumidity': 65, 'Visibility': {'Value': 16.1, 'Unit': 'km', 'UnitType': 6}, 'Ceiling': {'Value': 9144.0, 'Unit': 'm', 'UnitType': 5}, 'UVIndex': 0, 'UVIndexText': 'Bajo', 'PrecipitationProbability': 26, 'ThunderstormProbability': 5, 'RainProbability': 26, 'SnowProbability': 0, 'IceProbability': 0, 'TotalLiquid': {'Value': 0.0, 'Unit': 'mm', 'UnitType': 3}, 'Rain': {'Value': 0.0, 'Unit': 'mm', 'UnitType': 3}, 'Snow': {'Value': 0.0, 'Unit': 'cm', 'UnitType': 4}, 'Ice': {'Value': 0.0, 'Unit': 'mm', 'UnitType': 3}, 'CloudCover': 30, 'Evapotranspiration': {'Value': 0.0, 'Unit': 'mm', 'UnitType': 3}, 'SolarIrradiance': {'Value': 11.9, 'Unit': 'W/m²', 'UnitType': 33}, 'MobileLink': 'http://www.accuweather.com/es/es/eivissa/305478/hourly-weather-forecast/305478?day=1&hbhhour=19&unit=c', 'Link': 'http://www.accuweather.com/es/es/eivissa/305478/hourly-weather-forecast/305478?day=1&hbhhour=19&unit=c'}, {'DateTime': '2024-09-18T20:00:00+02:00', 'EpochDateTime': 1726682400, 'WeatherIcon': 34, 'IconPhrase': 'Mayormente despejado', 'HasPrecipitation': False, 'IsDaylight': False, 'Temperature': {'Value': 21.7, 'Unit': 'C', 'UnitType': 17}, 'RealFeelTemperature': {'Value': 20.3, 'Unit': 'C', 'UnitType': 17, 'Phrase': 'Agradable'}, 'RealFeelTemperatureShade': {'Value': 20.3, 'Unit': 'C', 'UnitType': 17, 'Phrase': 'Agradable'}, 'WetBulbTemperature': {'Value': 18.1, 'Unit': 'C', 'UnitType': 17}, 'WetBulbGlobeTemperature': {'Value': 20.5, 'Unit': 'C', 'UnitType': 17}, 'DewPoint': {'Value': 15.7, 'Unit': 'C', 'UnitType': 17}, 'Wind': {'Speed': {'Value': 13.0, 'Unit': 'km/h', 'UnitType': 7}, 'Direction': {'Degrees': 62, 'Localized': 'ENE', 'English': 'ENE'}}, 'WindGust': {'Speed': {'Value': 31.5, 'Unit': 'km/h', 'UnitType': 7}}, 'RelativeHumidity': 69, 'IndoorRelativeHumidity': 69, 'Visibility': {'Value': 16.1, 'Unit': 'km', 'UnitType': 6}, 'Ceiling': {'Value': 9144.0, 'Unit': 'm', 'UnitType': 5}, 'UVIndex': 0, 'UVIndexText': 'Bajo', 'PrecipitationProbability': 12, 'ThunderstormProbability': 0, 'RainProbability': 12, 'SnowProbability': 0, 'IceProbability': 0, 'TotalLiquid': {'Value': 0.0, 'Unit': 'mm', 'UnitType': 3}, 'Rain': {'Value': 0.0, 'Unit': 'mm', 'UnitType': 3}, 'Snow': {'Value': 0.0, 'Unit': 'cm', 'UnitType': 4}, 'Ice': {'Value': 0.0, 'Unit': 'mm', 'UnitType': 3}, 'CloudCover': 19, 'Evapotranspiration': {'Value': 0.0, 'Unit': 'mm', 'UnitType': 3}, 'SolarIrradiance': {'Value': 0.0, 'Unit': 'W/m²', 'UnitType': 33}, 'MobileLink': 'http://www.accuweather.com/es/es/eivissa/305478/hourly-weather-forecast/305478?day=1&hbhhour=20&unit=c', 'Link': 'http://www.accuweather.com/es/es/eivissa/305478/hourly-weather-forecast/305478?day=1&hbhhour=20&unit=c'}]\n"
     ]
    }
   ],
   "source": [
    "print(data)"
   ]
  },
  {
   "cell_type": "code",
   "execution_count": 0,
   "metadata": {
    "application/vnd.databricks.v1+cell": {
     "cellMetadata": {
      "byteLimit": 2048000,
      "rowLimit": 10000
     },
     "inputWidgets": {},
     "nuid": "1317baa4-bfdd-42a9-837a-bca0095e42ad",
     "showTitle": false,
     "title": ""
    }
   },
   "outputs": [],
   "source": [
    "from pyspark.sql import SparkSession\n",
    "from pyspark.sql import Row\n",
    "from pyspark.sql.functions import col, date_format, to_timestamp, expr\n",
    "\n",
    "\n",
    "# Crear una sesión de Spark\n",
    "spark = SparkSession.builder.appName(\"WeatherData\").getOrCreate()\n",
    "\n",
    "# Crear una lista vacía para almacenar los datos formateados\n",
    "weather_data = []\n",
    "\n",
    "# Iterar sobre cada elemento en la lista de datos y crear filas (Row) de Spark\n",
    "for item in data:\n",
    "    weather_data.append(Row(\n",
    "        DateTime_prev=item[\"DateTime\"],\n",
    "        Temperature=item[\"Temperature\"][\"Value\"],\n",
    "        RelativeHumidity=item[\"RelativeHumidity\"],\n",
    "        Rain=item[\"Rain\"][\"Value\"],\n",
    "        SolarIrradiance=item[\"SolarIrradiance\"][\"Value\"]       \n",
    "    ))\n",
    "\n",
    "# Crear un DataFrame de Spark a partir de la lista de filas (Row)\n",
    "df = spark.createDataFrame(weather_data)\n",
    "\n",
    "df_converted = df.withColumn(\"DateTime\", \n",
    "                             date_format(to_timestamp(col(\"DateTime_prev\"), \"yyyy-MM-dd'T'HH:mm:ssXXX\"), \"yyyy-MM-dd HH:mm:ss\"))"
   ]
  },
  {
   "cell_type": "code",
   "execution_count": 0,
   "metadata": {
    "application/vnd.databricks.v1+cell": {
     "cellMetadata": {
      "byteLimit": 2048000,
      "rowLimit": 10000
     },
     "inputWidgets": {},
     "nuid": "60cbed69-e2fa-4057-b302-26f4c652c62d",
     "showTitle": false,
     "title": ""
    }
   },
   "outputs": [
    {
     "output_type": "stream",
     "name": "stdout",
     "output_type": "stream",
     "text": [
      "+--------------------+-----------+----------------+----+---------------+-------------------+\n|       DateTime_prev|Temperature|RelativeHumidity|Rain|SolarIrradiance|           DateTime|\n+--------------------+-----------+----------------+----+---------------+-------------------+\n|2024-09-18T09:00:...|       20.8|              71| 1.3|           21.9|2024-09-18 07:00:00|\n|2024-09-18T10:00:...|       21.9|              70| 0.0|          601.0|2024-09-18 08:00:00|\n|2024-09-18T11:00:...|       22.9|              65| 0.0|          735.0|2024-09-18 09:00:00|\n|2024-09-18T12:00:...|       23.6|              63| 0.0|          597.8|2024-09-18 10:00:00|\n|2024-09-18T13:00:...|       24.2|              60| 0.0|          845.1|2024-09-18 11:00:00|\n|2024-09-18T14:00:...|       25.0|              57| 0.0|          816.7|2024-09-18 12:00:00|\n|2024-09-18T15:00:...|       24.4|              59| 0.0|          719.3|2024-09-18 13:00:00|\n|2024-09-18T16:00:...|       24.1|              60| 0.4|          439.9|2024-09-18 14:00:00|\n|2024-09-18T17:00:...|       23.7|              61| 0.0|          389.1|2024-09-18 15:00:00|\n|2024-09-18T18:00:...|       23.5|              61| 0.0|          220.5|2024-09-18 16:00:00|\n|2024-09-18T19:00:...|       22.6|              65| 0.0|           11.9|2024-09-18 17:00:00|\n|2024-09-18T20:00:...|       21.7|              69| 0.0|            0.0|2024-09-18 18:00:00|\n+--------------------+-----------+----------------+----+---------------+-------------------+\n\n"
     ]
    }
   ],
   "source": [
    "df_converted.show()\n"
   ]
  },
  {
   "cell_type": "code",
   "execution_count": 0,
   "metadata": {
    "application/vnd.databricks.v1+cell": {
     "cellMetadata": {
      "byteLimit": 2048000,
      "rowLimit": 10000
     },
     "inputWidgets": {},
     "nuid": "725f1588-bfa4-42a6-a5b1-519b00df73c6",
     "showTitle": false,
     "title": ""
    }
   },
   "outputs": [
    {
     "output_type": "stream",
     "name": "stdout",
     "output_type": "stream",
     "text": [
      "+-------------------+-----------+----------------+----+---------------+\n|           DateTime|Temperature|RelativeHumidity|Rain|SolarIrradiance|\n+-------------------+-----------+----------------+----+---------------+\n|2024-09-18 07:00:00|       20.8|              71| 1.3|           21.9|\n|2024-09-18 08:00:00|       21.9|              70| 0.0|          601.0|\n|2024-09-18 09:00:00|       22.9|              65| 0.0|          735.0|\n|2024-09-18 10:00:00|       23.6|              63| 0.0|          597.8|\n|2024-09-18 11:00:00|       24.2|              60| 0.0|          845.1|\n|2024-09-18 12:00:00|       25.0|              57| 0.0|          816.7|\n|2024-09-18 13:00:00|       24.4|              59| 0.0|          719.3|\n|2024-09-18 14:00:00|       24.1|              60| 0.4|          439.9|\n|2024-09-18 15:00:00|       23.7|              61| 0.0|          389.1|\n|2024-09-18 16:00:00|       23.5|              61| 0.0|          220.5|\n|2024-09-18 17:00:00|       22.6|              65| 0.0|           11.9|\n|2024-09-18 18:00:00|       21.7|              69| 0.0|            0.0|\n+-------------------+-----------+----------------+----+---------------+\n\n"
     ]
    }
   ],
   "source": [
    "# Eliminamos la primera columna y pasamos la ultima a la primera\n",
    "ultima_columna = df_converted.columns[0]\n",
    "df_sin_ultima_columna = df_converted.drop(ultima_columna)\n",
    "\n",
    "columnas = df_sin_ultima_columna.columns\n",
    "columnas_reordenadas = [columnas[-1]] + columnas[:-1]\n",
    "df_reordenado = df_sin_ultima_columna.select(columnas_reordenadas)\n",
    "\n",
    "df_reordenado.show()"
   ]
  },
  {
   "cell_type": "code",
   "execution_count": 0,
   "metadata": {
    "application/vnd.databricks.v1+cell": {
     "cellMetadata": {
      "byteLimit": 2048000,
      "rowLimit": 10000
     },
     "inputWidgets": {},
     "nuid": "045f49a0-47e5-4d92-b01a-df158d60c6b0",
     "showTitle": false,
     "title": ""
    }
   },
   "outputs": [],
   "source": [
    "guardar_datos(df_reordenado, datos_path)"
   ]
  },
  {
   "cell_type": "code",
   "execution_count": 0,
   "metadata": {
    "application/vnd.databricks.v1+cell": {
     "cellMetadata": {
      "byteLimit": 2048000,
      "implicitDf": true,
      "rowLimit": 10000
     },
     "inputWidgets": {},
     "nuid": "0459d25c-48ad-401c-8ed4-63008d52373f",
     "showTitle": false,
     "title": ""
    }
   },
   "outputs": [
    {
     "output_type": "display_data",
     "data": {
      "text/html": [
       "<style scoped>\n",
       "  .table-result-container {\n",
       "    max-height: 300px;\n",
       "    overflow: auto;\n",
       "  }\n",
       "  table, th, td {\n",
       "    border: 1px solid black;\n",
       "    border-collapse: collapse;\n",
       "  }\n",
       "  th, td {\n",
       "    padding: 5px;\n",
       "  }\n",
       "  th {\n",
       "    text-align: left;\n",
       "  }\n",
       "</style><div class='table-result-container'><table class='table-result'><thead style='background-color: white'><tr></tr></thead><tbody></tbody></table></div>"
      ]
     },
     "metadata": {
      "application/vnd.databricks.v1+output": {
       "addedWidgets": {},
       "aggData": [],
       "aggError": "",
       "aggOverflow": false,
       "aggSchema": [],
       "aggSeriesLimitReached": false,
       "aggType": "",
       "arguments": {},
       "columnCustomDisplayInfos": {},
       "data": [],
       "datasetInfos": [],
       "dbfsResultPath": null,
       "isJsonSchema": true,
       "metadata": {
        "dataframeName": null
       },
       "overflow": false,
       "plotOptions": {
        "customPlotOptions": {},
        "displayType": "table",
        "pivotAggregation": null,
        "pivotColumns": null,
        "xColumns": null,
        "yColumns": null
       },
       "removedWidgets": [],
       "schema": [],
       "type": "table"
      }
     },
     "output_type": "display_data"
    }
   ],
   "source": [
    "%sql\n",
    "USE CATALOG hive_metastore;\n",
    "CREATE DATABASE IF NOT EXISTS datos;\n",
    "\n",
    "CREATE DATABASE IF NOT EXISTS datos_external\n",
    "MANAGED LOCATION 'abfss://datos@masterabv003sta.dfs.core.windows.net/';\n",
    "\n",
    "CREATE TABLE IF NOT EXISTS datos_external.api\n",
    "USING DELTA\n",
    "LOCATION \"abfss://datos@masterabv003sta.dfs.core.windows.net/datos-api\";"
   ]
  }
 ],
 "metadata": {
  "application/vnd.databricks.v1+notebook": {
   "dashboards": [],
   "environmentMetadata": null,
   "language": "python",
   "notebookMetadata": {
    "mostRecentlyExecutedCommandWithImplicitDF": {
     "commandId": 773880048719798,
     "dataframes": [
      "_sqldf"
     ]
    },
    "pythonIndentUnit": 4
   },
   "notebookName": "main_API",
   "widgets": {}
  }
 },
 "nbformat": 4,
 "nbformat_minor": 0
}
