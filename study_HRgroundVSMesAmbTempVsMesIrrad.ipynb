{
 "cells": [
  {
   "cell_type": "code",
   "execution_count": 0,
   "metadata": {
    "application/vnd.databricks.v1+cell": {
     "cellMetadata": {
      "byteLimit": 2048000,
      "rowLimit": 10000
     },
     "inputWidgets": {},
     "nuid": "d6043069-fc85-478f-8f81-0e7a078e55bb",
     "showTitle": false,
     "title": ""
    }
   },
   "outputs": [],
   "source": [
    "# Paso 1: Leer las tablas existentes en DataFrames\n",
    "df_tabla2 = spark.table(\"hive_metastore.datos_external.arduino\")"
   ]
  },
  {
   "cell_type": "code",
   "execution_count": 0,
   "metadata": {
    "application/vnd.databricks.v1+cell": {
     "cellMetadata": {
      "byteLimit": 2048000,
      "rowLimit": 10000
     },
     "inputWidgets": {},
     "nuid": "67ce78b1-cfd9-41ea-b187-7ca21f19f7c6",
     "showTitle": false,
     "title": ""
    }
   },
   "outputs": [],
   "source": [
    "# Paso 2: Seleccionar las columnas que necesitamos de cada DataFrame\n",
    "df_tabla2_seleccion = df_tabla2.select(\"DateTime\", \"HR_soil\", \"T_amb\", \"irrad\")"
   ]
  },
  {
   "cell_type": "code",
   "execution_count": 0,
   "metadata": {
    "application/vnd.databricks.v1+cell": {
     "cellMetadata": {
      "byteLimit": 2048000,
      "rowLimit": 10000
     },
     "inputWidgets": {},
     "nuid": "0a8a09c0-6c5d-42bf-b8ea-c1bf9c18c3ec",
     "showTitle": false,
     "title": ""
    }
   },
   "outputs": [],
   "source": [
    "# Paso 3: Crear o reemplazar la tabla en Databricks\n",
    "df_tabla2_seleccion.write.mode(\"overwrite\").saveAsTable(\"study_HRgroundVSMesAmbTempVsMesIrrad\")"
   ]
  },
  {
   "cell_type": "code",
   "execution_count": 0,
   "metadata": {
    "application/vnd.databricks.v1+cell": {
     "cellMetadata": {
      "byteLimit": 2048000,
      "rowLimit": 10000
     },
     "inputWidgets": {},
     "nuid": "65722a59-2e07-4e9a-a3ff-de9974b0cdb4",
     "showTitle": false,
     "title": ""
    }
   },
   "outputs": [
    {
     "output_type": "stream",
     "name": "stdout",
     "output_type": "stream",
     "text": [
      "+----------------+-------+-----------+-----------+\n|        DateTime|HR_soil|      T_amb|      irrad|\n+----------------+-------+-----------+-----------+\n|2024-09-16 19:49|     53|23.10000038|91.05991364|\n|2024-09-16 19:49|     53|23.10000038|91.05991364|\n|2024-09-16 19:50|     53|23.10000038|90.87557983|\n|2024-09-16 19:50|     53|23.10000038|90.87557983|\n+----------------+-------+-----------+-----------+\n\n"
     ]
    }
   ],
   "source": [
    "# Mostrar la nueva tabla para confirmar\n",
    "spark.sql(\"SELECT * FROM study_HRgroundVSMesAmbTempVsMesIrrad\").show(60)"
   ]
  }
 ],
 "metadata": {
  "application/vnd.databricks.v1+notebook": {
   "dashboards": [],
   "environmentMetadata": null,
   "language": "python",
   "notebookMetadata": {
    "pythonIndentUnit": 4
   },
   "notebookName": "study_HRgroundVSMesAmbTempVsMesIrrad",
   "widgets": {}
  }
 },
 "nbformat": 4,
 "nbformat_minor": 0
}
